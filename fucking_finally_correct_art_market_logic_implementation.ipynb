{
 "cells": [
  {
   "cell_type": "markdown",
   "metadata": {},
   "source": [
    "Plan:\n",
    "make a tree with 15 + 2*2 = 19 nodes. 15 standard ones and 2 branches splitting off from studying\n",
    "\n",
    "For each Node need:\n",
    "node.name == move that leads to that node\n",
    "node.player == player to make the decision from the node\n",
    "node.children <-- taken care of by anytree\n",
    "node.parent == pointer to parent node"
   ]
  },
  {
   "cell_type": "markdown",
   "metadata": {},
   "source": [
    "artist == player 1\n",
    "\n",
    "buyer == player 2\n",
    "\n",
    "nature == player 3"
   ]
  },
  {
   "cell_type": "code",
   "execution_count": 17,
   "metadata": {
    "scrolled": true
   },
   "outputs": [],
   "source": [
    "from anytree import Node, RenderTree\n",
    "import anytree\n",
    "import copy\n",
    "import random\n",
    "\n",
    "from __future__ import print_function\n",
    "from ipywidgets import interact, interactive, fixed, interact_manual\n",
    "import ipywidgets as widgets\n",
    "\n",
    "from tqdm import tqdm\n",
    "\n",
    "import matplotlib\n",
    "import matplotlib.pyplot as plt\n",
    "import numpy as np\n"
   ]
  },
  {
   "cell_type": "code",
   "execution_count": 10,
   "metadata": {},
   "outputs": [],
   "source": [
    "def create_tree(p):\n",
    "    node0 = Node(\"create_art\", player = 1)\n",
    "\n",
    "    node1 = Node(\"high_price\",parent = node0, player = 2)\n",
    "    node2 = Node(\"low_price\",parent = node0,  player = 2)\n",
    "\n",
    "    node3 = Node(\"learn\",parent = node1,  player = 3)\n",
    "    node4 = Node(\"guess\",parent = node1,  player = 2)\n",
    "    node5 = Node(\"learn\",parent = node2,  player = 3)\n",
    "    node6 = Node(\"guess\",parent = node2,  player = 2)\n",
    "\n",
    "    node7 = Node(\"good_art\",parent = node3,  player = 2, prob = p)\n",
    "    node8 = Node(\"bad_art\",parent = node3,  player = 2, prob = 1-p)\n",
    "    node9 = Node(\"buy\",parent = node4,  player = 2)\n",
    "    node10 = Node(\"not_buy\",parent = node4,  player = 2)\n",
    "    node11 = Node(\"good_art\",parent = node5,  player = 2, prob = p)\n",
    "    node12 = Node(\"bad_art\",parent = node5,  player = 2, prob = 1-p)\n",
    "    node13 = Node(\"buy\",parent = node6,  player = 2)\n",
    "    node14 = Node(\"not_buy\",parent = node6,  player = 2)\n",
    "\n",
    "    node15 = Node(\"buy\",parent = node7,  player = 2)\n",
    "    node16 = Node(\"not_buy\",parent = node7,  player = 2)\n",
    "    node17 = Node(\"buy\",parent = node8,  player = 2)\n",
    "    node18 = Node(\"not_buy\",parent = node8,  player = 2)\n",
    "    node19 = Node(\"buy\",parent = node11,  player = 2)\n",
    "    node20 = Node(\"not_buy\",parent = node11,  player = 2)\n",
    "    node21 = Node(\"buy\",parent = node12,  player = 2)\n",
    "    node22 = Node(\"not_buy\",parent = node12,  player = 2)\n",
    "\n",
    "    return node0"
   ]
  },
  {
   "cell_type": "code",
   "execution_count": 11,
   "metadata": {},
   "outputs": [],
   "source": [
    "def set_payoffs_for_leaf_nodes(root_node, high_price, low_price, cost_to_learn, good_art_value, bad_art_value, p):\n",
    "    '''too fancy. too much automation can hurt like it hurt Tesla.'''\n",
    "    leaf_nodes = [node for node in anytree.iterators.preorderiter.PreOrderIter(root_node) if node.is_leaf]\n",
    "    for leaf_node in leaf_nodes:\n",
    "        leaf_node.payoff = {1: 0, 2:0}\n",
    "        moves = [node.name for node in leaf_node.path]\n",
    "        if 'learn' in moves:  #account for learning cost\n",
    "            leaf_node.payoff[2] -= cost_to_learn\n",
    "        if 'not_buy' in moves:\n",
    "            continue\n",
    "        if 'high_price' in moves:  #account for price\n",
    "            leaf_node.payoff[2] -= high_price\n",
    "            leaf_node.payoff[1] += high_price\n",
    "        elif 'low_price' in moves:\n",
    "            leaf_node.payoff[2] -= low_price\n",
    "            leaf_node.payoff[1] += low_price\n",
    "        else:\n",
    "            raise LogicError('either high_price or low price is True')\n",
    "        if 'guess' in moves:  #account for value if guess\n",
    "            leaf_node.payoff[2] += p*good_art_value + (1-p)*bad_art_value\n",
    "        elif 'learn' in moves:\n",
    "            if 'good_art' in moves:\n",
    "                leaf_node.payoff[2] += good_art_value\n",
    "            elif 'bad_art' in moves:\n",
    "                leaf_node.payoff[2] += bad_art_value\n",
    "            else:\n",
    "                raise LogicError('if learn is True, either good_art or bad_art is True')\n",
    "        leaf_node.payoff[2] = round(leaf_node.payoff[2], 2)"
   ]
  },
  {
   "cell_type": "code",
   "execution_count": 12,
   "metadata": {},
   "outputs": [],
   "source": [
    "def exp(node):\n",
    "    '''returns expectation of the node'''\n",
    "    if node.is_leaf:\n",
    "        return node.payoff\n",
    "    if node.player != 3:\n",
    "        return exp(max( node.children, key = lambda child_node: exp(child_node)[node.player] ))\n",
    "    #expectation for node if player == 3, i.e. nature\n",
    "    return {1:round(sum([child_node.prob*exp(child_node)[1] for child_node in node.children]),2), \\\n",
    "            2:round(sum([child_node.prob*exp(child_node)[2] for child_node in node.children]),2)}"
   ]
  },
  {
   "cell_type": "code",
   "execution_count": 13,
   "metadata": {},
   "outputs": [],
   "source": [
    "def solve(node):\n",
    "    if node.is_leaf:   #base case\n",
    "        return node\n",
    "    elif node.player == 3:\n",
    "        #decide at random\n",
    "        if random.random() < node.children[0].prob:\n",
    "            return solve(node.children[0])\n",
    "        else:\n",
    "            return solve(node.children[1])\n",
    "    return solve(max(node.children, key = lambda child_node: exp(child_node)[node.player]))"
   ]
  },
  {
   "cell_type": "code",
   "execution_count": 315,
   "metadata": {},
   "outputs": [
    {
     "data": {
      "application/vnd.jupyter.widget-view+json": {
       "model_id": "d837ab27844d4f12981a0feafc9c73e4",
       "version_major": 2,
       "version_minor": 0
      },
      "text/html": [
       "<p>Failed to display Jupyter Widget of type <code>interactive</code>.</p>\n",
       "<p>\n",
       "  If you're reading this message in the Jupyter Notebook or JupyterLab Notebook, it may mean\n",
       "  that the widgets JavaScript is still loading. If this message persists, it\n",
       "  likely means that the widgets JavaScript library is either not installed or\n",
       "  not enabled. See the <a href=\"https://ipywidgets.readthedocs.io/en/stable/user_install.html\">Jupyter\n",
       "  Widgets Documentation</a> for setup instructions.\n",
       "</p>\n",
       "<p>\n",
       "  If you're reading this message in another frontend (for example, a static\n",
       "  rendering on GitHub or <a href=\"https://nbviewer.jupyter.org/\">NBViewer</a>),\n",
       "  it may mean that your frontend doesn't currently support widgets.\n",
       "</p>\n"
      ],
      "text/plain": [
       "interactive(children=(FloatSlider(value=8.0, description='high_price', max=20.0, min=8.0, step=1.0), FloatSlider(value=3.0, description='low_price', max=8.0, step=0.5), FloatSlider(value=2.0, description='cost_to_learn', max=10.0, step=0.5), FloatSlider(value=20.0, description='good_art_value', max=50.0, min=10.0, step=1.0), FloatSlider(value=1.0, description='bad_art_value', max=10.0, step=1.0), Output()), _dom_classes=('widget-interact',))"
      ]
     },
     "metadata": {},
     "output_type": "display_data"
    },
    {
     "data": {
      "text/plain": [
       "<function __main__.set_payoffs_and_solve>"
      ]
     },
     "execution_count": 315,
     "metadata": {},
     "output_type": "execute_result"
    }
   ],
   "source": [
    "######################## INTERACTIVE ################\n",
    "high_price = widgets.FloatSlider(min=8,max=20,step=1,value=8)             #low price\n",
    "low_price = widgets.FloatSlider(min=0,max=8,step=0.5,value=3)             #low price\n",
    "\n",
    "good_art_value=widgets.FloatSlider(min=10,max=50,step=1,value=20)               #value of good art\n",
    "bad_art_value=widgets.FloatSlider(min=0,max=10,step=1,value=1)               #value of bad art\n",
    "\n",
    "cost_to_learn = widgets.FloatSlider(min=0,max=10,step=0.5,value=2)            #cost of learning\n",
    "\n",
    "p = 0.4\n",
    "node0 = create_tree(p)\n",
    "def set_payoffs_and_solve(high_price, low_price, cost_to_learn, good_art_value, bad_art_value):\n",
    "    set_payoffs_for_leaf_nodes(node0, high_price, low_price, cost_to_learn, good_art_value, bad_art_value, p)\n",
    "    e = exp(node0)\n",
    "    b = [node.name for node in solve(node0).path]\n",
    "    \n",
    "    print('expected payoffs: '+str(e))\n",
    "    print(\"behavior at equilibrium: \"+str(b))\n",
    "    #result = 'expected payoffs: '+str(e) +\"behavior: \"+str(b) \n",
    "    return \n",
    "#set_payoffs_for_leaf_nodes(root_node=node0, 8, 3, 2, 15, 1, 0.4)\n",
    "interact(set_payoffs_and_solve, high_price=high_price, \\\n",
    "         low_price=low_price, cost_to_learn=cost_to_learn, good_art_value=good_art_value, \\\n",
    "         bad_art_value=bad_art_value)"
   ]
  },
  {
   "cell_type": "code",
   "execution_count": null,
   "metadata": {},
   "outputs": [],
   "source": [
    "high_price = widgets.FloatSlider(min=8,max=20,step=1,value=8)             #low price\n",
    "low_price = widgets.FloatSlider(min=0,max=8,step=0.5,value=3)             #low price\n",
    "\n",
    "good_art_value=widgets.FloatSlider(min=10,max=50,step=1,value=20)               #value of good art\n",
    "bad_art_value=widgets.FloatSlider(min=0,max=10,step=1,value=1)               #value of bad art\n",
    "\n",
    "cost_to_learn = widgets.FloatSlider(min=0,max=10,step=0.5,value=2)            #cost of learning\n",
    "\n",
    "node0 = create_tree(p)\n",
    "\n",
    "def get_payoffs_for_all_p(high_price, low_price, cost_to_learn, good_art_value, bad_art_value):\n",
    "    \n",
    "    for p in range(101):\n",
    "        node0.children[0].children[0].children[0].prob = p\n",
    "        node0.children[0].children[0].children[1].prob = 1-p\n",
    "        node0.children[1].children[0].children[0].prob = p\n",
    "        node0.children[1].children[0].children[1].prob = 1-p\n",
    "        set_payoffs_for_leaf_nodes(node0, high_price, low_price, cost_to_learn, good_art_value, bad_art_value, p)\n",
    "        payoffs = [node.payoff[2] for node in anytree.iterators.preorderiter.PreOrderIter(node0) if node.is_leaf]\n",
    "        \n",
    "    return \n",
    "#set_payoffs_for_leaf_nodes(root_node=node0, 8, 3, 2, 15, 1, 0.4)\n",
    "interact(set_payoffs_and_solve, high_price=high_price, \\\n",
    "         low_price=low_price, cost_to_learn=cost_to_learn, good_art_value=good_art_value, \\\n",
    "         bad_art_value=bad_art_value)"
   ]
  },
  {
   "cell_type": "markdown",
   "metadata": {},
   "source": [
    "PLAN:\n",
    "define functions of p for each behavior. So 8 functions in total. Each takes in p and outputs expectation of each behavior\n",
    "define function that takes in all parameters and outputs two subplots, each one with 4 expectations, one for each behavior.\n",
    "do interact on all parameters except p.\n"
   ]
  },
  {
   "cell_type": "code",
   "execution_count": 26,
   "metadata": {},
   "outputs": [
    {
     "data": {
      "text/plain": [
       "[<matplotlib.lines.Line2D at 0x1a92ed3f4a8>]"
      ]
     },
     "execution_count": 26,
     "metadata": {},
     "output_type": "execute_result"
    },
    {
     "data": {
      "image/png": "[encoded data removed]",
      "text/plain": [
       "<matplotlib.figure.Figure at 0x1a92ecf9d68>"
      ]
     },
     "metadata": {},
     "output_type": "display_data"
    }
   ],
   "source": [
    "\n",
    "\n",
    "def f(t):\n",
    "    return np.exp(-t) * np.cos(2*np.pi*t)\n",
    "\n",
    "t1 = np.arange(0.0, 5.0, 0.1)\n",
    "t2 = np.arange(0.0, 5.0, 0.02)\n",
    "\n",
    "plt.figure(1)\n",
    "plt.subplot(211)\n",
    "plt.plot(t1, f(t1), 'bo', t2, f(t2), 'k')\n",
    "\n",
    "plt.subplot(212)\n",
    "plt.plot(t2, np.cos(2*np.pi*t2), 'r')"
   ]
  },
  {
   "cell_type": "code",
   "execution_count": 16,
   "metadata": {},
   "outputs": [
    {
     "data": {
      "text/plain": [
       "Node('/create_art/high_price/learn', player=3)"
      ]
     },
     "execution_count": 16,
     "metadata": {},
     "output_type": "execute_result"
    }
   ],
   "source": [
    "p = 0.4\n",
    "node0 = create_tree(p)\n",
    "params = {'root_node':node0,'high_price':8,'low_price':3, 'cost_to_learn':2,'good_art_value':15,'bad_art_value':1,'p':p}\n",
    "\n",
    "set_payoffs_for_leaf_nodes(**params)\n",
    "node0.children[0].children[0]"
   ]
  },
  {
   "cell_type": "code",
   "execution_count": 42,
   "metadata": {},
   "outputs": [
    {
     "data": {
      "application/vnd.jupyter.widget-view+json": {
       "model_id": "975bf9321dcc4095b0411039dc559d86",
       "version_major": 2,
       "version_minor": 0
      },
      "text/html": [
       "<p>Failed to display Jupyter Widget of type <code>interactive</code>.</p>\n",
       "<p>\n",
       "  If you're reading this message in the Jupyter Notebook or JupyterLab Notebook, it may mean\n",
       "  that the widgets JavaScript is still loading. If this message persists, it\n",
       "  likely means that the widgets JavaScript library is either not installed or\n",
       "  not enabled. See the <a href=\"https://ipywidgets.readthedocs.io/en/stable/user_install.html\">Jupyter\n",
       "  Widgets Documentation</a> for setup instructions.\n",
       "</p>\n",
       "<p>\n",
       "  If you're reading this message in another frontend (for example, a static\n",
       "  rendering on GitHub or <a href=\"https://nbviewer.jupyter.org/\">NBViewer</a>),\n",
       "  it may mean that your frontend doesn't currently support widgets.\n",
       "</p>\n"
      ],
      "text/plain": [
       "interactive(children=(FloatSlider(value=8.0, description='high_price', max=20.0, min=8.0, step=1.0), FloatSlider(value=3.0, description='low_price', max=8.0, step=0.5), FloatSlider(value=2.0, description='cost_to_learn', max=10.0, step=0.5), FloatSlider(value=20.0, description='good_art_value', max=50.0, min=10.0, step=1.0), FloatSlider(value=1.0, description='bad_art_value', max=10.0, step=1.0), Checkbox(value=True, description='player_2'), Output()), _dom_classes=('widget-interact',))"
      ]
     },
     "metadata": {},
     "output_type": "display_data"
    },
    {
     "data": {
      "text/plain": [
       "<function __main__.main>"
      ]
     },
     "execution_count": 42,
     "metadata": {},
     "output_type": "execute_result"
    }
   ],
   "source": [
    "high_price = widgets.FloatSlider(min=8,max=20,step=1,value=8)             #low price\n",
    "low_price = widgets.FloatSlider(min=0,max=8,step=0.5,value=3)             #low price\n",
    "good_art_value=widgets.FloatSlider(min=10,max=50,step=1,value=20)               #value of good art\n",
    "bad_art_value=widgets.FloatSlider(min=0,max=10,step=1,value=1)               #value of bad art\n",
    "cost_to_learn = widgets.FloatSlider(min=0,max=10,step=0.5,value=2)            #cost of learning\n",
    "player_2 = True\n",
    "\n",
    "def main(high_price, low_price, cost_to_learn, good_art_value, bad_art_value, player_2):\n",
    "    player = int(player_2) + 1\n",
    "    #create tree and payoffs\n",
    "    node0=create_tree(0)\n",
    "\n",
    "    behavior1 = []\n",
    "    behavior2 = []\n",
    "    behavior3 = []\n",
    "    behavior4 = []\n",
    "    behavior5 = []\n",
    "    behavior6 = []\n",
    "    p_list = [p for p in range(101)]\n",
    "    for p in p_list:\n",
    "        set_payoffs_for_leaf_nodes(node0, high_price, low_price, cost_to_learn, good_art_value, bad_art_value, p)\n",
    "        node0.children[0].children[0].children[0].prob = p\n",
    "        node0.children[0].children[0].children[1].prob = 1-p\n",
    "        node0.children[1].children[0].children[0].prob = p\n",
    "        node0.children[1].children[0].children[1].prob = 1-p\n",
    "        behavior1.append(exp(node0.children[0].children[0])[player])\n",
    "        behavior2.append(exp(node0.children[0].children[1].children[0])[player])\n",
    "        behavior3.append(exp(node0.children[0].children[1].children[1])[player])\n",
    "        behavior4.append(exp(node0.children[1].children[0])[player])\n",
    "        behavior5.append(exp(node0.children[1].children[1].children[0])[player])\n",
    "        behavior6.append(exp(node0.children[1].children[1].children[1])[player])\n",
    "\n",
    "    plt.figure(1)\n",
    "    plt.subplot(211)\n",
    "    plt.plot(behavior1, p_list, color='red', linewidth=3)\n",
    "    plt.plot(behavior2, p_list, color='blue', linewidth=3)\n",
    "    plt.plot(behavior3, p_list, color='green', linewidth=3)\n",
    "    plt.xlim(-.05, 1.05)\n",
    "    plt.subplot(212)\n",
    "    plt.plot(behavior4, p_list, color='red', linewidth=3)\n",
    "    plt.plot(behavior5, p_list, color='blue', linewidth=3)\n",
    "    plt.plot(behavior6, p_list, color='green', linewidth=3)\n",
    "    plt.xlim(-.05, 1.05)\n",
    "    plt.show()\n",
    "interact(main, high_price=high_price, \\\n",
    "         low_price=low_price, cost_to_learn=cost_to_learn, good_art_value=good_art_value, \\\n",
    "         bad_art_value=bad_art_value,player_2=player_2)"
   ]
  },
  {
   "cell_type": "code",
   "execution_count": null,
   "metadata": {},
   "outputs": [],
   "source": []
  },
  {
   "cell_type": "code",
   "execution_count": null,
   "metadata": {},
   "outputs": [],
   "source": []
  },
  {
   "cell_type": "code",
   "execution_count": null,
   "metadata": {},
   "outputs": [],
   "source": []
  },
  {
   "cell_type": "code",
   "execution_count": null,
   "metadata": {},
   "outputs": [],
   "source": []
  },
  {
   "cell_type": "code",
   "execution_count": null,
   "metadata": {},
   "outputs": [],
   "source": []
  },
  {
   "cell_type": "code",
   "execution_count": null,
   "metadata": {},
   "outputs": [],
   "source": []
  },
  {
   "cell_type": "code",
   "execution_count": null,
   "metadata": {},
   "outputs": [],
   "source": []
  },
  {
   "cell_type": "code",
   "execution_count": null,
   "metadata": {},
   "outputs": [],
   "source": []
  },
  {
   "cell_type": "code",
   "execution_count": null,
   "metadata": {},
   "outputs": [],
   "source": []
  },
  {
   "cell_type": "code",
   "execution_count": null,
   "metadata": {},
   "outputs": [],
   "source": []
  },
  {
   "cell_type": "code",
   "execution_count": null,
   "metadata": {},
   "outputs": [],
   "source": []
  },
  {
   "cell_type": "code",
   "execution_count": null,
   "metadata": {},
   "outputs": [],
   "source": []
  },
  {
   "cell_type": "code",
   "execution_count": null,
   "metadata": {},
   "outputs": [],
   "source": []
  },
  {
   "cell_type": "code",
   "execution_count": null,
   "metadata": {},
   "outputs": [],
   "source": []
  },
  {
   "cell_type": "code",
   "execution_count": null,
   "metadata": {},
   "outputs": [],
   "source": []
  },
  {
   "cell_type": "code",
   "execution_count": null,
   "metadata": {},
   "outputs": [],
   "source": []
  },
  {
   "cell_type": "code",
   "execution_count": null,
   "metadata": {},
   "outputs": [],
   "source": []
  },
  {
   "cell_type": "code",
   "execution_count": null,
   "metadata": {},
   "outputs": [],
   "source": []
  },
  {
   "cell_type": "code",
   "execution_count": null,
   "metadata": {},
   "outputs": [],
   "source": []
  },
  {
   "cell_type": "code",
   "execution_count": null,
   "metadata": {},
   "outputs": [],
   "source": []
  },
  {
   "cell_type": "code",
   "execution_count": null,
   "metadata": {},
   "outputs": [],
   "source": []
  },
  {
   "cell_type": "code",
   "execution_count": null,
   "metadata": {},
   "outputs": [],
   "source": []
  },
  {
   "cell_type": "code",
   "execution_count": null,
   "metadata": {},
   "outputs": [],
   "source": []
  },
  {
   "cell_type": "code",
   "execution_count": null,
   "metadata": {},
   "outputs": [],
   "source": []
  },
  {
   "cell_type": "code",
   "execution_count": null,
   "metadata": {},
   "outputs": [],
   "source": []
  },
  {
   "cell_type": "code",
   "execution_count": null,
   "metadata": {},
   "outputs": [],
   "source": []
  },
  {
   "cell_type": "code",
   "execution_count": null,
   "metadata": {},
   "outputs": [],
   "source": []
  },
  {
   "cell_type": "code",
   "execution_count": null,
   "metadata": {},
   "outputs": [],
   "source": []
  },
  {
   "cell_type": "code",
   "execution_count": null,
   "metadata": {},
   "outputs": [],
   "source": []
  },
  {
   "cell_type": "code",
   "execution_count": null,
   "metadata": {},
   "outputs": [],
   "source": []
  },
  {
   "cell_type": "markdown",
   "metadata": {},
   "source": [
    "################\n",
    "TESTING:"
   ]
  },
  {
   "cell_type": "code",
   "execution_count": 304,
   "metadata": {},
   "outputs": [],
   "source": [
    "node0 = create_tree(0.4)"
   ]
  },
  {
   "cell_type": "code",
   "execution_count": 291,
   "metadata": {
    "scrolled": false
   },
   "outputs": [
    {
     "data": {
      "text/plain": [
       "[Node('/create_art/high_price/learn/good_art/buy', payoff={1: 8, 2: 5}, player=2),\n",
       " Node('/create_art/high_price/learn/good_art/not_buy', payoff={1: 0, 2: -2}, player=2),\n",
       " Node('/create_art/high_price/learn/bad_art/buy', payoff={1: 8, 2: -9}, player=2),\n",
       " Node('/create_art/high_price/learn/bad_art/not_buy', payoff={1: 0, 2: -2}, player=2),\n",
       " Node('/create_art/high_price/guess/buy', payoff={1: 8, 2: -1.4}, player=2),\n",
       " Node('/create_art/high_price/guess/not_buy', payoff={1: 0, 2: 0}, player=2),\n",
       " Node('/create_art/low_price/learn/good_art/buy', payoff={1: 3, 2: 10}, player=2),\n",
       " Node('/create_art/low_price/learn/good_art/not_buy', payoff={1: 0, 2: -2}, player=2),\n",
       " Node('/create_art/low_price/learn/bad_art/buy', payoff={1: 3, 2: -4}, player=2),\n",
       " Node('/create_art/low_price/learn/bad_art/not_buy', payoff={1: 0, 2: -2}, player=2),\n",
       " Node('/create_art/low_price/guess/buy', payoff={1: 3, 2: 3.6}, player=2),\n",
       " Node('/create_art/low_price/guess/not_buy', payoff={1: 0, 2: 0}, player=2)]"
      ]
     },
     "execution_count": 291,
     "metadata": {},
     "output_type": "execute_result"
    }
   ],
   "source": [
    "###### TEST FOR set_payoffs_for_leaf_nodes() ######\n",
    "###### OUTPUT: (8,5) (0,-2) (8, -9) (0,-2) (8,-1.4) (0,0) (3,10) (0,-2) (3, -4) (0,-2) (3,3.6) (0,0) ######\n",
    "set_payoffs_for_leaf_nodes(node0, 8, 3, 2, 15, 1, 0.4)\n",
    "[node for node in anytree.iterators.preorderiter.PreOrderIter(node0) if node.is_leaf]"
   ]
  },
  {
   "cell_type": "code",
   "execution_count": 292,
   "metadata": {},
   "outputs": [
    {
     "data": {
      "text/plain": [
       "{1: 3.2, 2: 0.8}"
      ]
     },
     "execution_count": 292,
     "metadata": {},
     "output_type": "execute_result"
    }
   ],
   "source": [
    "###### TEST FOR exp() ########\n",
    "###### OUTPUT: {1: 3.2, 2: 0.8} #########\n",
    "exp(node0.children[0].children[0])"
   ]
  },
  {
   "cell_type": "code",
   "execution_count": 293,
   "metadata": {},
   "outputs": [
    {
     "data": {
      "text/plain": [
       "Node('/create_art/high_price/learn/bad_art/not_buy', payoff={1: 0, 2: -2}, player=2)"
      ]
     },
     "execution_count": 293,
     "metadata": {},
     "output_type": "execute_result"
    }
   ],
   "source": [
    "###### TEST FOR solve() ########\n",
    "###### OUTPUT: either {1: 8, 2: 5} or {1: 0, 2: -2} #########\n",
    "solve(node0.children[0].children[0])"
   ]
  },
  {
   "cell_type": "code",
   "execution_count": 294,
   "metadata": {
    "scrolled": false
   },
   "outputs": [
    {
     "name": "stdout",
     "output_type": "stream",
     "text": [
      "Node('/create_art', player=1)\n",
      "├── Node('/create_art/high_price', player=2)\n",
      "│   ├── Node('/create_art/high_price/learn', player=3)\n",
      "│   │   ├── Node('/create_art/high_price/learn/good_art', player=2, prob=0.4)\n",
      "│   │   │   ├── Node('/create_art/high_price/learn/good_art/buy', payoff={1: 8, 2: 5}, player=2)\n",
      "│   │   │   └── Node('/create_art/high_price/learn/good_art/not_buy', payoff={1: 0, 2: -2}, player=2)\n",
      "│   │   └── Node('/create_art/high_price/learn/bad_art', player=2, prob=0.6)\n",
      "│   │       ├── Node('/create_art/high_price/learn/bad_art/buy', payoff={1: 8, 2: -9}, player=2)\n",
      "│   │       └── Node('/create_art/high_price/learn/bad_art/not_buy', payoff={1: 0, 2: -2}, player=2)\n",
      "│   └── Node('/create_art/high_price/guess', player=2)\n",
      "│       ├── Node('/create_art/high_price/guess/buy', payoff={1: 8, 2: -1.4}, player=2)\n",
      "│       └── Node('/create_art/high_price/guess/not_buy', payoff={1: 0, 2: 0}, player=2)\n",
      "└── Node('/create_art/low_price', player=2)\n",
      "    ├── Node('/create_art/low_price/learn', player=3)\n",
      "    │   ├── Node('/create_art/low_price/learn/good_art', player=2, prob=0.4)\n",
      "    │   │   ├── Node('/create_art/low_price/learn/good_art/buy', payoff={1: 3, 2: 10}, player=2)\n",
      "    │   │   └── Node('/create_art/low_price/learn/good_art/not_buy', payoff={1: 0, 2: -2}, player=2)\n",
      "    │   └── Node('/create_art/low_price/learn/bad_art', player=2, prob=0.6)\n",
      "    │       ├── Node('/create_art/low_price/learn/bad_art/buy', payoff={1: 3, 2: -4}, player=2)\n",
      "    │       └── Node('/create_art/low_price/learn/bad_art/not_buy', payoff={1: 0, 2: -2}, player=2)\n",
      "    └── Node('/create_art/low_price/guess', player=2)\n",
      "        ├── Node('/create_art/low_price/guess/buy', payoff={1: 3, 2: 3.6}, player=2)\n",
      "        └── Node('/create_art/low_price/guess/not_buy', payoff={1: 0, 2: 0}, player=2)\n"
     ]
    }
   ],
   "source": [
    "print(RenderTree(node0))"
   ]
  },
  {
   "cell_type": "markdown",
   "metadata": {},
   "source": [
    "END OF TESTING\n",
    "###################"
   ]
  },
  {
   "cell_type": "code",
   "execution_count": null,
   "metadata": {},
   "outputs": [],
   "source": []
  },
  {
   "cell_type": "code",
   "execution_count": null,
   "metadata": {},
   "outputs": [],
   "source": []
  },
  {
   "cell_type": "code",
   "execution_count": null,
   "metadata": {},
   "outputs": [],
   "source": []
  },
  {
   "cell_type": "code",
   "execution_count": 6,
   "metadata": {},
   "outputs": [
    {
     "data": {
      "text/plain": [
       "[<matplotlib.lines.Line2D at 0x1a92d680780>]"
      ]
     },
     "execution_count": 6,
     "metadata": {},
     "output_type": "execute_result"
    },
    {
     "data": {
      "image/png": "[encoded data removed]",
      "text/plain": [
       "<matplotlib.figure.Figure at 0x1a92d6341d0>"
      ]
     },
     "metadata": {},
     "output_type": "display_data"
    }
   ],
   "source": []
  },
  {
   "cell_type": "markdown",
   "metadata": {},
   "source": [
    "\n"
   ]
  },
  {
   "cell_type": "code",
   "execution_count": 7,
   "metadata": {},
   "outputs": [],
   "source": []
  },
  {
   "cell_type": "code",
   "execution_count": null,
   "metadata": {},
   "outputs": [],
   "source": []
  },
  {
   "cell_type": "code",
   "execution_count": null,
   "metadata": {},
   "outputs": [],
   "source": []
  },
  {
   "cell_type": "code",
   "execution_count": null,
   "metadata": {},
   "outputs": [],
   "source": []
  },
  {
   "cell_type": "code",
   "execution_count": null,
   "metadata": {},
   "outputs": [],
   "source": []
  },
  {
   "cell_type": "code",
   "execution_count": null,
   "metadata": {},
   "outputs": [],
   "source": []
  },
  {
   "cell_type": "code",
   "execution_count": null,
   "metadata": {},
   "outputs": [],
   "source": []
  },
  {
   "cell_type": "code",
   "execution_count": null,
   "metadata": {},
   "outputs": [],
   "source": []
  },
  {
   "cell_type": "code",
   "execution_count": null,
   "metadata": {},
   "outputs": [],
   "source": []
  }
 ],
 "metadata": {
  "kernelspec": {
   "display_name": "Python 3",
   "language": "python",
   "name": "python3"
  },
  "language_info": {
   "codemirror_mode": {
    "name": "ipython",
    "version": 3
   },
   "file_extension": ".py",
   "mimetype": "text/x-python",
   "name": "python",
   "nbconvert_exporter": "python",
   "pygments_lexer": "ipython3",
   "version": "3.6.4"
  }
 },
 "nbformat": 4,
 "nbformat_minor": 2
}
