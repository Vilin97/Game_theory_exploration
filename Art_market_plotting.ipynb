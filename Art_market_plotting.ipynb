{
 "cells": [
  {
   "cell_type": "markdown",
   "metadata": {},
   "source": [
    "Plan:\n",
    "make a tree with 15 + 2*2 = 19 nodes. 15 standard ones and 2 branches splitting off from studying\n",
    "\n",
    "For each Node need:\n",
    "node.name == move that leads to that node\n",
    "node.player == player to make the decision from the node\n",
    "node.children <-- taken care of by anytree\n",
    "node.parent == pointer to parent node"
   ]
  },
  {
   "cell_type": "markdown",
   "metadata": {},
   "source": [
    "artist == player 1\n",
    "\n",
    "buyer == player 2\n",
    "\n",
    "nature == player 3"
   ]
  },
  {
   "cell_type": "code",
   "execution_count": 3,
   "metadata": {
    "scrolled": true
   },
   "outputs": [],
   "source": [
    "from anytree import Node, RenderTree\n",
    "import anytree\n",
    "import copy\n",
    "import random\n",
    "\n",
    "from __future__ import print_function\n",
    "from ipywidgets import interact, interactive, fixed, interact_manual\n",
    "import ipywidgets as widgets\n",
    "\n",
    "from tqdm import tqdm\n",
    "\n",
    "import matplotlib\n",
    "import matplotlib.pyplot as plt\n",
    "import numpy as np\n"
   ]
  },
  {
   "cell_type": "code",
   "execution_count": 80,
   "metadata": {},
   "outputs": [],
   "source": [
    "def create_tree(p):\n",
    "    node0 = Node(\"create_art\", player = 1)\n",
    "\n",
    "    node1 = Node(\"high_price\",parent = node0, player = 2)\n",
    "    node2 = Node(\"low_price\",parent = node0,  player = 2)\n",
    "\n",
    "    node3 = Node(\"learn\",parent = node1,  player = 3)\n",
    "    node4 = Node(\"guess\",parent = node1,  player = 2)\n",
    "    node5 = Node(\"learn\",parent = node2,  player = 3)\n",
    "    node6 = Node(\"guess\",parent = node2,  player = 2)\n",
    "\n",
    "    node7 = Node(\"good_art\",parent = node3,  player = 2, prob = p)\n",
    "    node8 = Node(\"bad_art\",parent = node3,  player = 2, prob = 1-p)\n",
    "    node9 = Node(\"buy\",parent = node4,  player = 2)\n",
    "    node10 = Node(\"not_buy\",parent = node4,  player = 2)\n",
    "    node11 = Node(\"good_art\",parent = node5,  player = 2, prob = p)\n",
    "    node12 = Node(\"bad_art\",parent = node5,  player = 2, prob = 1-p)\n",
    "    node13 = Node(\"buy\",parent = node6,  player = 2)\n",
    "    node14 = Node(\"not_buy\",parent = node6,  player = 2)\n",
    "\n",
    "    node15 = Node(\"buy\",parent = node7,  player = 2)\n",
    "    node16 = Node(\"not_buy\",parent = node7,  player = 2)\n",
    "    node17 = Node(\"buy\",parent = node8,  player = 2)\n",
    "    node18 = Node(\"not_buy\",parent = node8,  player = 2)\n",
    "    node19 = Node(\"buy\",parent = node11,  player = 2)\n",
    "    node20 = Node(\"not_buy\",parent = node11,  player = 2)\n",
    "    node21 = Node(\"buy\",parent = node12,  player = 2)\n",
    "    node22 = Node(\"not_buy\",parent = node12,  player = 2)\n",
    "\n",
    "    return node0\n",
    "\n",
    "def set_payoffs_for_leaf_nodes(root_node, high_price, low_price, cost_to_learn, good_art_value, bad_art_value, p):\n",
    "    if high_price < low_price or low_price < 0 or cost_to_learn < 0 or good_art_value < bad_art_value \\\n",
    "    or p < 0 or p > 1:\n",
    "        print('ERROR. SOME OF THE PARAMETERS DO NOT MAKE PHYSICAL SENSE')\n",
    "    leaf_nodes = [node for node in anytree.iterators.preorderiter.PreOrderIter(root_node) if node.is_leaf]\n",
    "    leaf_nodes[0].payoff = {1:high_price, 2: -high_price-cost_to_learn+good_art_value}\n",
    "    leaf_nodes[1].payoff = {1:0, 2: -cost_to_learn}\n",
    "    leaf_nodes[2].payoff = {1:high_price, 2: -high_price-cost_to_learn+bad_art_value}\n",
    "    leaf_nodes[3].payoff = {1:0, 2: -cost_to_learn}\n",
    "    leaf_nodes[4].payoff = {1:high_price, 2: -high_price + p*good_art_value +(1-p)*bad_art_value }\n",
    "    leaf_nodes[5].payoff = {1:0, 2: 0}\n",
    "\n",
    "    leaf_nodes[6].payoff = {1:low_price, 2: -low_price-cost_to_learn+good_art_value}\n",
    "    leaf_nodes[7].payoff = {1:0, 2: -cost_to_learn}\n",
    "    leaf_nodes[8].payoff = {1:low_price, 2: -low_price-cost_to_learn+bad_art_value}\n",
    "    leaf_nodes[9].payoff = {1:0, 2: -cost_to_learn}\n",
    "    leaf_nodes[10].payoff = {1:low_price, 2: -low_price + p*good_art_value +(1-p)*bad_art_value }\n",
    "    leaf_nodes[11].payoff = {1:0, 2: 0}\n",
    "    return\n",
    "\n",
    "\n",
    "\n",
    "def exp(node):\n",
    "    '''returns expectation of the node'''\n",
    "    if node.is_leaf:\n",
    "        return node.payoff\n",
    "    if node.player != 3:\n",
    "        return exp(max( node.children, key = lambda child_node: exp(child_node)[node.player] ))\n",
    "    #expectation for node if player == 3, i.e. nature\n",
    "    return {1:round(sum([child_node.prob*exp(child_node)[1] for child_node in node.children]),2), \\\n",
    "            2:round(sum([child_node.prob*exp(child_node)[2] for child_node in node.children]),2)}\n",
    "\n",
    "def solve(node):\n",
    "    if node.is_leaf:   #base case\n",
    "        return node\n",
    "    elif node.player == 3:\n",
    "        #decide at random\n",
    "        if random.random() < node.children[0].prob:\n",
    "            return solve(node.children[0])\n",
    "        else:\n",
    "            return solve(node.children[1])\n",
    "    return solve(max(node.children, key = lambda child_node: exp(child_node)[node.player]))"
   ]
  },
  {
   "cell_type": "code",
   "execution_count": 56,
   "metadata": {},
   "outputs": [],
   "source": [
    "def set_probs(root_node, p):\n",
    "    root_node.children[0].children[0].children[0].prob = p\n",
    "    root_node.children[0].children[0].children[1].prob = 1-p\n",
    "    root_node.children[1].children[0].children[0].prob = p\n",
    "    root_node.children[1].children[0].children[1].prob = 1-p"
   ]
  },
  {
   "cell_type": "code",
   "execution_count": 8,
   "metadata": {},
   "outputs": [],
   "source": [
    "def set_payoffs_and_solve(high_price, low_price, cost_to_learn, good_art_value, bad_art_value):\n",
    "    set_payoffs_for_leaf_nodes(node0, high_price, low_price, cost_to_learn, good_art_value, bad_art_value, p)\n",
    "    e = exp(node0)\n",
    "    b = [node.name for node in solve(node0).path]\n",
    "    \n",
    "    print('expected payoffs: '+str(e))\n",
    "    print(\"behavior at equilibrium: \"+str(b))\n",
    "    #result = 'expected payoffs: '+str(e) +\"behavior: \"+str(b) \n",
    "    return"
   ]
  },
  {
   "cell_type": "code",
   "execution_count": 14,
   "metadata": {},
   "outputs": [
    {
     "data": {
      "application/vnd.jupyter.widget-view+json": {
       "model_id": "668256a6b3354b578a58719886e92960",
       "version_major": 2,
       "version_minor": 0
      },
      "text/html": [
       "<p>Failed to display Jupyter Widget of type <code>interactive</code>.</p>\n",
       "<p>\n",
       "  If you're reading this message in the Jupyter Notebook or JupyterLab Notebook, it may mean\n",
       "  that the widgets JavaScript is still loading. If this message persists, it\n",
       "  likely means that the widgets JavaScript library is either not installed or\n",
       "  not enabled. See the <a href=\"https://ipywidgets.readthedocs.io/en/stable/user_install.html\">Jupyter\n",
       "  Widgets Documentation</a> for setup instructions.\n",
       "</p>\n",
       "<p>\n",
       "  If you're reading this message in another frontend (for example, a static\n",
       "  rendering on GitHub or <a href=\"https://nbviewer.jupyter.org/\">NBViewer</a>),\n",
       "  it may mean that your frontend doesn't currently support widgets.\n",
       "</p>\n"
      ],
      "text/plain": [
       "interactive(children=(FloatSlider(value=8.0, description='high_price', max=20.0, min=8.0, step=1.0), FloatSlider(value=3.0, description='low_price', max=8.0, step=0.5), FloatSlider(value=2.0, description='cost_to_learn', max=10.0, step=0.5), FloatSlider(value=20.0, description='good_art_value', max=50.0, min=10.0, step=1.0), FloatSlider(value=1.0, description='bad_art_value', max=10.0, step=1.0), Output()), _dom_classes=('widget-interact',))"
      ]
     },
     "metadata": {},
     "output_type": "display_data"
    },
    {
     "data": {
      "text/plain": [
       "<function __main__.set_payoffs_and_solve>"
      ]
     },
     "execution_count": 14,
     "metadata": {},
     "output_type": "execute_result"
    }
   ],
   "source": [
    "######################## INTERACTIVE ################\n",
    "high_price = widgets.FloatSlider(min=8,max=20,step=1,value=8)             #low price\n",
    "low_price = widgets.FloatSlider(min=0,max=8,step=0.5,value=3)             #low price\n",
    "\n",
    "good_art_value=widgets.FloatSlider(min=10,max=50,step=1,value=20)               #value of good art\n",
    "bad_art_value=widgets.FloatSlider(min=0,max=10,step=1,value=1)               #value of bad art\n",
    "\n",
    "cost_to_learn = widgets.FloatSlider(min=0,max=10,step=0.5,value=2)            #cost of learning\n",
    "\n",
    "p = 0.4\n",
    "node0 = create_tree(p)\n",
    " \n",
    "\n",
    "interact(set_payoffs_and_solve, high_price=high_price, \\\n",
    "         low_price=low_price, cost_to_learn=cost_to_learn, good_art_value=good_art_value, \\\n",
    "         bad_art_value=bad_art_value)"
   ]
  },
  {
   "cell_type": "markdown",
   "metadata": {},
   "source": [
    "PLAN:\n",
    "define functions of p for each behavior. So 8 functions in total. Each takes in p and outputs expectation of each behavior\n",
    "define function that takes in all parameters and outputs two subplots, each one with 4 expectations, one for each behavior.\n",
    "do interact on all parameters except p.\n"
   ]
  },
  {
   "cell_type": "code",
   "execution_count": 87,
   "metadata": {},
   "outputs": [
    {
     "data": {
      "application/vnd.jupyter.widget-view+json": {
       "model_id": "e96fbd8a3c464578857f21f453d22fbd",
       "version_major": 2,
       "version_minor": 0
      },
      "text/html": [
       "<p>Failed to display Jupyter Widget of type <code>interactive</code>.</p>\n",
       "<p>\n",
       "  If you're reading this message in the Jupyter Notebook or JupyterLab Notebook, it may mean\n",
       "  that the widgets JavaScript is still loading. If this message persists, it\n",
       "  likely means that the widgets JavaScript library is either not installed or\n",
       "  not enabled. See the <a href=\"https://ipywidgets.readthedocs.io/en/stable/user_install.html\">Jupyter\n",
       "  Widgets Documentation</a> for setup instructions.\n",
       "</p>\n",
       "<p>\n",
       "  If you're reading this message in another frontend (for example, a static\n",
       "  rendering on GitHub or <a href=\"https://nbviewer.jupyter.org/\">NBViewer</a>),\n",
       "  it may mean that your frontend doesn't currently support widgets.\n",
       "</p>\n"
      ],
      "text/plain": [
       "interactive(children=(FloatSlider(value=8.0, description='high_price', max=20.0, min=8.0, step=1.0), FloatSlider(value=3.0, description='low_price', max=8.0, step=0.5), FloatSlider(value=2.0, description='cost_to_learn', max=10.0, step=0.5), FloatSlider(value=20.0, description='good_art_value', max=50.0, min=10.0, step=1.0), FloatSlider(value=1.0, description='bad_art_value', max=10.0, step=1.0), Output()), _dom_classes=('widget-interact',))"
      ]
     },
     "metadata": {},
     "output_type": "display_data"
    },
    {
     "data": {
      "text/plain": [
       "<function __main__.main>"
      ]
     },
     "execution_count": 87,
     "metadata": {},
     "output_type": "execute_result"
    }
   ],
   "source": [
    "high_price = widgets.FloatSlider(min=8,max=20,step=1,value=8)             #low price\n",
    "low_price = widgets.FloatSlider(min=0,max=8,step=0.5,value=3)             #low price\n",
    "good_art_value=widgets.FloatSlider(min=10,max=50,step=1,value=20)               #value of good art\n",
    "bad_art_value=widgets.FloatSlider(min=0,max=10,step=1,value=1)               #value of bad art\n",
    "cost_to_learn = widgets.FloatSlider(min=0,max=10,step=0.5,value=2)            #cost of learning\n",
    "\n",
    "def main(high_price, low_price, cost_to_learn, good_art_value, bad_art_value):\n",
    "    high_price_expectations = []\n",
    "    low_price_expectations = []\n",
    "    \n",
    "    learn_expectations = []\n",
    "    guess_and_buy_expectations = []\n",
    "    guess_and_not_buy_expectations = []\n",
    "    p_list = [0.01*p for p in range(101)]\n",
    "    for p in p_list:\n",
    "        set_probs(node0, p)\n",
    "        set_payoffs_for_leaf_nodes(node0, high_price, low_price, cost_to_learn, good_art_value, bad_art_value, p)\n",
    "\n",
    "        high_price_expectations.append(exp(node0.children[0])[1])\n",
    "        low_price_expectations.append(exp(node0.children[1])[1])\n",
    "        \n",
    "        low_price_is_set = int(exp(node0.children[0])[1] < exp(node0.children[1])[1])\n",
    "        learn_expectations.append(exp(node0.children[low_price_is_set].children[0])[2])\n",
    "        guess_and_buy_expectations.append(exp(node0.children[low_price_is_set].children[1].children[0])[2])\n",
    "        guess_and_not_buy_expectations.append(exp(node0.children[low_price_is_set].children[1].children[1])[2])\n",
    "\n",
    "        if p == 0.4:\n",
    "            e = exp(node0)\n",
    "            b = [node.name for node in solve(node0).path]\n",
    "            print(\"For p = 0.4:\")\n",
    "            print('expected payoffs: '+str(e))\n",
    "            print(\"behavior at equilibrium: \"+str(b))\n",
    "\n",
    "    plt.figure(1)\n",
    "    \n",
    "    plt.subplot(211)\n",
    "    plt.plot(p_list, high_price_expectations, label = \"high price\")\n",
    "    plt.plot(p_list, low_price_expectations, label = \"low price\")\n",
    "    plt.title(\"Player 1\")\n",
    "    #plt.xlabel(\"probability that art is good\")\n",
    "    plt.ylabel(\"expectation\")\n",
    "    plt.legend()\n",
    "\n",
    "    plt.subplot(212)\n",
    "    plt.plot(p_list, learn_expectations, label = \"learn\")\n",
    "    plt.plot(p_list, guess_and_buy_expectations, label = \"guess and buy\")\n",
    "    plt.plot(p_list, guess_and_not_buy_expectations, label = \"guess and not buy\")\n",
    "    plt.title(\"Player 2\")\n",
    "    plt.xlabel(\"probability that art is good\")\n",
    "    plt.ylabel(\"expectation\")\n",
    "    plt.legend()\n",
    "    \n",
    "    plt.subplots_adjust(left=None, bottom=0, right=1.5, top=1.2,\n",
    "                wspace=None, hspace=0.5)\n",
    "    \n",
    "    plt.show()\n",
    "    \n",
    "interact(main, high_price=high_price, \\\n",
    "         low_price=low_price, cost_to_learn=cost_to_learn, good_art_value=good_art_value, \\\n",
    "         bad_art_value=bad_art_value)"
   ]
  },
  {
   "cell_type": "code",
   "execution_count": null,
   "metadata": {},
   "outputs": [],
   "source": []
  },
  {
   "cell_type": "code",
   "execution_count": 76,
   "metadata": {},
   "outputs": [],
   "source": [
    "def get_equilibrium(root_node, high_price, low_price, cost_to_learn, good_art_value, bad_art_value, p):\n",
    "    set_probs(root_node, p)\n",
    "    set_payoffs_for_leaf_nodes(root_node, high_price, low_price, cost_to_learn, good_art_value, bad_art_value, p)\n",
    "    result = solve(root_node)\n",
    "    b = [node.name for node in result.path]\n",
    "    if 'learn' in b:\n",
    "        return b[:-2]\n",
    "    else:\n",
    "        return b"
   ]
  },
  {
   "cell_type": "code",
   "execution_count": 77,
   "metadata": {},
   "outputs": [
    {
     "data": {
      "text/plain": [
       "['create_art', 'high_price', 'guess', 'buy']"
      ]
     },
     "execution_count": 77,
     "metadata": {},
     "output_type": "execute_result"
    }
   ],
   "source": [
    "node0 = create_tree(0)\n",
    "get_equilibrium(node0, 8, 3, 2, 15, 5, 0.4)"
   ]
  },
  {
   "cell_type": "code",
   "execution_count": null,
   "metadata": {},
   "outputs": [],
   "source": [
    "def get_projection(root_node, params, var1, range1, var2, range2):\n",
    "    '''var1 = position of the first variable in the list. var2 = position of the second variable.\n",
    "    range1 and range2 specify the ranges of var1 and var2'''\n",
    "    eq1 = []\n",
    "    eq2 = []\n",
    "    eq3 = []\n",
    "    eq4 = []\n",
    "    eq5 = []\n",
    "    eq6 = []\n",
    "    for x in range(range1[0],range1[1]):\n",
    "        for y in range(range2[0],range2[1]):\n",
    "            params[var1] = x\n",
    "            params[var2] = y\n",
    "            eq = get_equilibrium(root_node, params[0], params[1], params[2], params[3], params[4], params[5])\n",
    "            "
   ]
  },
  {
   "cell_type": "code",
   "execution_count": null,
   "metadata": {},
   "outputs": [],
   "source": []
  },
  {
   "cell_type": "code",
   "execution_count": null,
   "metadata": {},
   "outputs": [],
   "source": []
  },
  {
   "cell_type": "code",
   "execution_count": null,
   "metadata": {},
   "outputs": [],
   "source": []
  },
  {
   "cell_type": "code",
   "execution_count": null,
   "metadata": {},
   "outputs": [],
   "source": []
  },
  {
   "cell_type": "code",
   "execution_count": null,
   "metadata": {},
   "outputs": [],
   "source": []
  },
  {
   "cell_type": "code",
   "execution_count": null,
   "metadata": {},
   "outputs": [],
   "source": []
  },
  {
   "cell_type": "code",
   "execution_count": null,
   "metadata": {},
   "outputs": [],
   "source": []
  },
  {
   "cell_type": "code",
   "execution_count": null,
   "metadata": {},
   "outputs": [],
   "source": []
  },
  {
   "cell_type": "code",
   "execution_count": null,
   "metadata": {},
   "outputs": [],
   "source": []
  },
  {
   "cell_type": "code",
   "execution_count": null,
   "metadata": {},
   "outputs": [],
   "source": []
  },
  {
   "cell_type": "code",
   "execution_count": null,
   "metadata": {},
   "outputs": [],
   "source": []
  },
  {
   "cell_type": "code",
   "execution_count": null,
   "metadata": {},
   "outputs": [],
   "source": []
  },
  {
   "cell_type": "code",
   "execution_count": null,
   "metadata": {},
   "outputs": [],
   "source": []
  },
  {
   "cell_type": "code",
   "execution_count": null,
   "metadata": {},
   "outputs": [],
   "source": []
  },
  {
   "cell_type": "code",
   "execution_count": null,
   "metadata": {},
   "outputs": [],
   "source": []
  },
  {
   "cell_type": "code",
   "execution_count": null,
   "metadata": {},
   "outputs": [],
   "source": []
  },
  {
   "cell_type": "code",
   "execution_count": null,
   "metadata": {},
   "outputs": [],
   "source": []
  },
  {
   "cell_type": "code",
   "execution_count": null,
   "metadata": {},
   "outputs": [],
   "source": []
  },
  {
   "cell_type": "code",
   "execution_count": null,
   "metadata": {},
   "outputs": [],
   "source": []
  },
  {
   "cell_type": "code",
   "execution_count": null,
   "metadata": {},
   "outputs": [],
   "source": []
  },
  {
   "cell_type": "markdown",
   "metadata": {},
   "source": [
    "################\n",
    "TESTING:"
   ]
  },
  {
   "cell_type": "code",
   "execution_count": 40,
   "metadata": {},
   "outputs": [],
   "source": [
    "node0 = create_tree(0.4)"
   ]
  },
  {
   "cell_type": "code",
   "execution_count": 54,
   "metadata": {
    "scrolled": false
   },
   "outputs": [
    {
     "data": {
      "text/plain": [
       "[Node('/create_art/high_price/learn/good_art/buy', payoff={1: 8, 2: 5}, player=2),\n",
       " Node('/create_art/high_price/learn/good_art/not_buy', payoff={1: 0, 2: -2}, player=2),\n",
       " Node('/create_art/high_price/learn/bad_art/buy', payoff={1: 8, 2: -9}, player=2),\n",
       " Node('/create_art/high_price/learn/bad_art/not_buy', payoff={1: 0, 2: -2}, player=2),\n",
       " Node('/create_art/high_price/guess/buy', payoff={1: 8, 2: -1.4}, player=2),\n",
       " Node('/create_art/high_price/guess/not_buy', payoff={1: 0, 2: 0}, player=2),\n",
       " Node('/create_art/low_price/learn/good_art/buy', payoff={1: 3, 2: 10}, player=2),\n",
       " Node('/create_art/low_price/learn/good_art/not_buy', payoff={1: 0, 2: -2}, player=2),\n",
       " Node('/create_art/low_price/learn/bad_art/buy', payoff={1: 3, 2: -4}, player=2),\n",
       " Node('/create_art/low_price/learn/bad_art/not_buy', payoff={1: 0, 2: -2}, player=2),\n",
       " Node('/create_art/low_price/guess/buy', payoff={1: 3, 2: 3.6}, player=2),\n",
       " Node('/create_art/low_price/guess/not_buy', payoff={1: 0, 2: 0}, player=2)]"
      ]
     },
     "execution_count": 54,
     "metadata": {},
     "output_type": "execute_result"
    }
   ],
   "source": [
    "###### TEST FOR set_payoffs_for_leaf_nodes() ######\n",
    "###### OUTPUT: (8,5) (0,-2) (8, -9) (0,-2) (8,-1.4) (0,0) (3,10) (0,-2) (3, -4) (0,-2) (3,3.6) (0,0) ######\n",
    "node0 = set_payoffs_for_leaf_nodes(node0, 8, 3, 2, 15, 1, 0.4)\n",
    "[node for node in anytree.iterators.preorderiter.PreOrderIter(node0) if node.is_leaf]"
   ]
  },
  {
   "cell_type": "code",
   "execution_count": 32,
   "metadata": {},
   "outputs": [
    {
     "data": {
      "text/plain": [
       "{1: 3.2, 2: 0.8}"
      ]
     },
     "execution_count": 32,
     "metadata": {},
     "output_type": "execute_result"
    }
   ],
   "source": [
    "###### TEST FOR exp() ########\n",
    "###### OUTPUT: {1: 3.2, 2: 0.8} #########\n",
    "exp(node0.children[0].children[0])"
   ]
  },
  {
   "cell_type": "code",
   "execution_count": 33,
   "metadata": {},
   "outputs": [
    {
     "data": {
      "text/plain": [
       "Node('/create_art/high_price/learn/bad_art/not_buy', payoff={1: 0, 2: -2}, player=2)"
      ]
     },
     "execution_count": 33,
     "metadata": {},
     "output_type": "execute_result"
    }
   ],
   "source": [
    "###### TEST FOR solve() ########\n",
    "###### OUTPUT: either {1: 8, 2: 5} or {1: 0, 2: -2} #########\n",
    "solve(node0.children[0].children[0])"
   ]
  },
  {
   "cell_type": "code",
   "execution_count": 34,
   "metadata": {
    "scrolled": false
   },
   "outputs": [
    {
     "name": "stdout",
     "output_type": "stream",
     "text": [
      "Node('/create_art', player=1)\n",
      "├── Node('/create_art/high_price', player=2)\n",
      "│   ├── Node('/create_art/high_price/learn', player=3)\n",
      "│   │   ├── Node('/create_art/high_price/learn/good_art', player=2, prob=0.4)\n",
      "│   │   │   ├── Node('/create_art/high_price/learn/good_art/buy', payoff={1: 8, 2: 5}, player=2)\n",
      "│   │   │   └── Node('/create_art/high_price/learn/good_art/not_buy', payoff={1: 0, 2: -2}, player=2)\n",
      "│   │   └── Node('/create_art/high_price/learn/bad_art', player=2, prob=0.6)\n",
      "│   │       ├── Node('/create_art/high_price/learn/bad_art/buy', payoff={1: 8, 2: -9}, player=2)\n",
      "│   │       └── Node('/create_art/high_price/learn/bad_art/not_buy', payoff={1: 0, 2: -2}, player=2)\n",
      "│   └── Node('/create_art/high_price/guess', player=2)\n",
      "│       ├── Node('/create_art/high_price/guess/buy', payoff={1: 8, 2: -1.4}, player=2)\n",
      "│       └── Node('/create_art/high_price/guess/not_buy', payoff={1: 0, 2: 0}, player=2)\n",
      "└── Node('/create_art/low_price', player=2)\n",
      "    ├── Node('/create_art/low_price/learn', player=3)\n",
      "    │   ├── Node('/create_art/low_price/learn/good_art', player=2, prob=0.4)\n",
      "    │   │   ├── Node('/create_art/low_price/learn/good_art/buy', payoff={1: 3, 2: 10}, player=2)\n",
      "    │   │   └── Node('/create_art/low_price/learn/good_art/not_buy', payoff={1: 0, 2: -2}, player=2)\n",
      "    │   └── Node('/create_art/low_price/learn/bad_art', player=2, prob=0.6)\n",
      "    │       ├── Node('/create_art/low_price/learn/bad_art/buy', payoff={1: 3, 2: -4}, player=2)\n",
      "    │       └── Node('/create_art/low_price/learn/bad_art/not_buy', payoff={1: 0, 2: -2}, player=2)\n",
      "    └── Node('/create_art/low_price/guess', player=2)\n",
      "        ├── Node('/create_art/low_price/guess/buy', payoff={1: 3, 2: 3.6}, player=2)\n",
      "        └── Node('/create_art/low_price/guess/not_buy', payoff={1: 0, 2: 0}, player=2)\n"
     ]
    }
   ],
   "source": [
    "print(RenderTree(node0))"
   ]
  },
  {
   "cell_type": "markdown",
   "metadata": {},
   "source": [
    "END OF TESTING\n",
    "###################"
   ]
  },
  {
   "cell_type": "code",
   "execution_count": null,
   "metadata": {},
   "outputs": [],
   "source": []
  },
  {
   "cell_type": "code",
   "execution_count": null,
   "metadata": {},
   "outputs": [],
   "source": []
  },
  {
   "cell_type": "code",
   "execution_count": null,
   "metadata": {},
   "outputs": [],
   "source": []
  },
  {
   "cell_type": "code",
   "execution_count": null,
   "metadata": {},
   "outputs": [],
   "source": []
  },
  {
   "cell_type": "markdown",
   "metadata": {},
   "source": [
    "\n"
   ]
  },
  {
   "cell_type": "code",
   "execution_count": null,
   "metadata": {},
   "outputs": [],
   "source": []
  },
  {
   "cell_type": "code",
   "execution_count": null,
   "metadata": {},
   "outputs": [],
   "source": []
  },
  {
   "cell_type": "code",
   "execution_count": null,
   "metadata": {},
   "outputs": [],
   "source": []
  },
  {
   "cell_type": "code",
   "execution_count": null,
   "metadata": {},
   "outputs": [],
   "source": []
  },
  {
   "cell_type": "code",
   "execution_count": null,
   "metadata": {},
   "outputs": [],
   "source": []
  },
  {
   "cell_type": "code",
   "execution_count": null,
   "metadata": {},
   "outputs": [],
   "source": []
  },
  {
   "cell_type": "code",
   "execution_count": null,
   "metadata": {},
   "outputs": [],
   "source": []
  }
 ],
 "metadata": {
  "kernelspec": {
   "display_name": "Python 3",
   "language": "python",
   "name": "python3"
  },
  "language_info": {
   "codemirror_mode": {
    "name": "ipython",
    "version": 3
   },
   "file_extension": ".py",
   "mimetype": "text/x-python",
   "name": "python",
   "nbconvert_exporter": "python",
   "pygments_lexer": "ipython3",
   "version": "3.6.4"
  }
 },
 "nbformat": 4,
 "nbformat_minor": 2
}
