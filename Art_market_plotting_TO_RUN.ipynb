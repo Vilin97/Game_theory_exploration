{
 "cells": [
  {
   "cell_type": "markdown",
   "metadata": {},
   "source": [
    "Plan:\n",
    "make a tree with 15 + 2*2 = 19 nodes. 15 standard ones and 2 branches splitting off from studying\n",
    "\n",
    "For each Node need:\n",
    "node.name == move that leads to that node\n",
    "node.player == player to make the decision from the node\n",
    "node.children <-- taken care of by anytree\n",
    "node.parent == pointer to parent node"
   ]
  },
  {
   "cell_type": "markdown",
   "metadata": {},
   "source": [
    "artist == player 1\n",
    "\n",
    "buyer == player 2\n",
    "\n",
    "nature == player 3"
   ]
  },
  {
   "cell_type": "code",
   "execution_count": 1,
   "metadata": {
    "scrolled": true
   },
   "outputs": [],
   "source": [
    "from anytree import Node, RenderTree\n",
    "import anytree\n",
    "import copy\n",
    "import random\n",
    "\n",
    "from __future__ import print_function\n",
    "from ipywidgets import interact, interactive, fixed, interact_manual\n",
    "import ipywidgets as widgets\n",
    "\n",
    "from tqdm import tqdm\n",
    "\n",
    "import matplotlib\n",
    "import matplotlib.pyplot as plt\n",
    "import numpy as np\n"
   ]
  },
  {
   "cell_type": "code",
   "execution_count": 2,
   "metadata": {},
   "outputs": [],
   "source": [
    "def create_tree(p):\n",
    "    node0 = Node(\"create_art\", player = 1)\n",
    "\n",
    "    node1 = Node(\"high_price\",parent = node0, player = 2)\n",
    "    node2 = Node(\"low_price\",parent = node0,  player = 2)\n",
    "\n",
    "    node3 = Node(\"learn\",parent = node1,  player = 3)\n",
    "    node4 = Node(\"guess\",parent = node1,  player = 2)\n",
    "    node5 = Node(\"learn\",parent = node2,  player = 3)\n",
    "    node6 = Node(\"guess\",parent = node2,  player = 2)\n",
    "\n",
    "    node7 = Node(\"good_art\",parent = node3,  player = 2, prob = p)\n",
    "    node8 = Node(\"bad_art\",parent = node3,  player = 2, prob = 1-p)\n",
    "    node9 = Node(\"buy\",parent = node4,  player = 2)\n",
    "    node10 = Node(\"not_buy\",parent = node4,  player = 2)\n",
    "    node11 = Node(\"good_art\",parent = node5,  player = 2, prob = p)\n",
    "    node12 = Node(\"bad_art\",parent = node5,  player = 2, prob = 1-p)\n",
    "    node13 = Node(\"buy\",parent = node6,  player = 2)\n",
    "    node14 = Node(\"not_buy\",parent = node6,  player = 2)\n",
    "\n",
    "    node15 = Node(\"buy\",parent = node7,  player = 2)\n",
    "    node16 = Node(\"not_buy\",parent = node7,  player = 2)\n",
    "    node17 = Node(\"buy\",parent = node8,  player = 2)\n",
    "    node18 = Node(\"not_buy\",parent = node8,  player = 2)\n",
    "    node19 = Node(\"buy\",parent = node11,  player = 2)\n",
    "    node20 = Node(\"not_buy\",parent = node11,  player = 2)\n",
    "    node21 = Node(\"buy\",parent = node12,  player = 2)\n",
    "    node22 = Node(\"not_buy\",parent = node12,  player = 2)\n",
    "\n",
    "    return node0\n",
    "\n",
    "def set_payoffs_for_leaf_nodes(root_node, high_price, low_price, cost_to_learn, good_art_value, bad_art_value, p):\n",
    "    if high_price < low_price or low_price < 0 or cost_to_learn < 0 or good_art_value < bad_art_value \\\n",
    "    or p < 0 or p > 1:\n",
    "        print('ERROR. SOME OF THE PARAMETERS DO NOT MAKE PHYSICAL SENSE')\n",
    "    leaf_nodes = [node for node in anytree.iterators.preorderiter.PreOrderIter(root_node) if node.is_leaf]\n",
    "    leaf_nodes[0].payoff = {1:high_price, 2: -high_price-cost_to_learn+good_art_value}\n",
    "    leaf_nodes[1].payoff = {1:0, 2: -cost_to_learn}\n",
    "    leaf_nodes[2].payoff = {1:high_price, 2: -high_price-cost_to_learn+bad_art_value}\n",
    "    leaf_nodes[3].payoff = {1:0, 2: -cost_to_learn}\n",
    "    leaf_nodes[4].payoff = {1:high_price, 2: -high_price + p*good_art_value +(1-p)*bad_art_value }\n",
    "    leaf_nodes[5].payoff = {1:0, 2: 0}\n",
    "\n",
    "    leaf_nodes[6].payoff = {1:low_price, 2: -low_price-cost_to_learn+good_art_value}\n",
    "    leaf_nodes[7].payoff = {1:0, 2: -cost_to_learn}\n",
    "    leaf_nodes[8].payoff = {1:low_price, 2: -low_price-cost_to_learn+bad_art_value}\n",
    "    leaf_nodes[9].payoff = {1:0, 2: -cost_to_learn}\n",
    "    leaf_nodes[10].payoff = {1:low_price, 2: -low_price + p*good_art_value +(1-p)*bad_art_value }\n",
    "    leaf_nodes[11].payoff = {1:0, 2: 0}\n",
    "    return\n",
    "\n",
    "\n",
    "\n",
    "def exp(node):\n",
    "    '''returns expectation of the node'''\n",
    "    if node.is_leaf:\n",
    "        return node.payoff\n",
    "    if node.player != 3:\n",
    "        return exp(max( node.children, key = lambda child_node: exp(child_node)[node.player] ))\n",
    "    #expectation for node if player == 3, i.e. nature\n",
    "    return {1:round(sum([child_node.prob*exp(child_node)[1] for child_node in node.children]),2), \\\n",
    "            2:round(sum([child_node.prob*exp(child_node)[2] for child_node in node.children]),2)}\n",
    "\n",
    "def solve(node):\n",
    "    if node.is_leaf:   #base case\n",
    "        return node\n",
    "    elif node.player == 3:\n",
    "        #decide at random\n",
    "        if random.random() < node.children[0].prob:\n",
    "            return solve(node.children[0])\n",
    "        else:\n",
    "            return solve(node.children[1])\n",
    "    return solve(max(node.children, key = lambda child_node: exp(child_node)[node.player]))"
   ]
  },
  {
   "cell_type": "code",
   "execution_count": 3,
   "metadata": {},
   "outputs": [],
   "source": [
    "def set_probs(root_node, p):\n",
    "    root_node.children[0].children[0].children[0].prob = p\n",
    "    root_node.children[0].children[0].children[1].prob = 1-p\n",
    "    root_node.children[1].children[0].children[0].prob = p\n",
    "    root_node.children[1].children[0].children[1].prob = 1-p"
   ]
  },
  {
   "cell_type": "code",
   "execution_count": 4,
   "metadata": {},
   "outputs": [],
   "source": [
    "def set_payoffs_and_solve(high_price, low_price, cost_to_learn, good_art_value, bad_art_value):\n",
    "    set_payoffs_for_leaf_nodes(node0, high_price, low_price, cost_to_learn, good_art_value, bad_art_value, p)\n",
    "    e = exp(node0)\n",
    "    b = [node.name for node in solve(node0).path]\n",
    "    \n",
    "    print('expected payoffs: '+str(e))\n",
    "    print(\"behavior at equilibrium: \"+str(b))\n",
    "    #result = 'expected payoffs: '+str(e) +\"behavior: \"+str(b) \n",
    "    return"
   ]
  },
  {
   "cell_type": "code",
   "execution_count": 5,
   "metadata": {},
   "outputs": [
    {
     "data": {
      "application/vnd.jupyter.widget-view+json": {
       "model_id": "e2e11c46f8384e4d91ece003f72f24cd",
       "version_major": 2,
       "version_minor": 0
      },
      "text/html": [
       "<p>Failed to display Jupyter Widget of type <code>interactive</code>.</p>\n",
       "<p>\n",
       "  If you're reading this message in the Jupyter Notebook or JupyterLab Notebook, it may mean\n",
       "  that the widgets JavaScript is still loading. If this message persists, it\n",
       "  likely means that the widgets JavaScript library is either not installed or\n",
       "  not enabled. See the <a href=\"https://ipywidgets.readthedocs.io/en/stable/user_install.html\">Jupyter\n",
       "  Widgets Documentation</a> for setup instructions.\n",
       "</p>\n",
       "<p>\n",
       "  If you're reading this message in another frontend (for example, a static\n",
       "  rendering on GitHub or <a href=\"https://nbviewer.jupyter.org/\">NBViewer</a>),\n",
       "  it may mean that your frontend doesn't currently support widgets.\n",
       "</p>\n"
      ],
      "text/plain": [
       "interactive(children=(FloatSlider(value=8.0, description='high_price', max=20.0, min=8.0, step=1.0), FloatSlider(value=3.0, description='low_price', max=8.0, step=0.5), FloatSlider(value=2.0, description='cost_to_learn', max=10.0, step=0.5), FloatSlider(value=20.0, description='good_art_value', max=50.0, min=10.0, step=1.0), FloatSlider(value=1.0, description='bad_art_value', max=10.0, step=1.0), Output()), _dom_classes=('widget-interact',))"
      ]
     },
     "metadata": {},
     "output_type": "display_data"
    },
    {
     "data": {
      "text/plain": [
       "<function __main__.set_payoffs_and_solve>"
      ]
     },
     "execution_count": 5,
     "metadata": {},
     "output_type": "execute_result"
    }
   ],
   "source": [
    "######################## INTERACTIVE ################\n",
    "high_price = widgets.FloatSlider(min=8,max=20,step=1,value=8)             #low price\n",
    "low_price = widgets.FloatSlider(min=0,max=8,step=0.5,value=3)             #low price\n",
    "\n",
    "good_art_value=widgets.FloatSlider(min=10,max=50,step=1,value=20)               #value of good art\n",
    "bad_art_value=widgets.FloatSlider(min=0,max=10,step=1,value=1)               #value of bad art\n",
    "\n",
    "cost_to_learn = widgets.FloatSlider(min=0,max=10,step=0.5,value=2)            #cost of learning\n",
    "\n",
    "p = 0.4\n",
    "node0 = create_tree(p)\n",
    " \n",
    "\n",
    "interact(set_payoffs_and_solve, high_price=high_price, \\\n",
    "         low_price=low_price, cost_to_learn=cost_to_learn, good_art_value=good_art_value, \\\n",
    "         bad_art_value=bad_art_value)"
   ]
  },
  {
   "cell_type": "markdown",
   "metadata": {},
   "source": [
    "PLAN:\n",
    "define functions of p for each behavior. So 8 functions in total. Each takes in p and outputs expectation of each behavior\n",
    "define function that takes in all parameters and outputs two subplots, each one with 4 expectations, one for each behavior.\n",
    "do interact on all parameters except p.\n"
   ]
  },
  {
   "cell_type": "code",
   "execution_count": 9,
   "metadata": {},
   "outputs": [
    {
     "data": {
      "application/vnd.jupyter.widget-view+json": {
       "model_id": "60f6e4cf7a8a413cbf445d13286a1a34",
       "version_major": 2,
       "version_minor": 0
      },
      "text/html": [
       "<p>Failed to display Jupyter Widget of type <code>interactive</code>.</p>\n",
       "<p>\n",
       "  If you're reading this message in the Jupyter Notebook or JupyterLab Notebook, it may mean\n",
       "  that the widgets JavaScript is still loading. If this message persists, it\n",
       "  likely means that the widgets JavaScript library is either not installed or\n",
       "  not enabled. See the <a href=\"https://ipywidgets.readthedocs.io/en/stable/user_install.html\">Jupyter\n",
       "  Widgets Documentation</a> for setup instructions.\n",
       "</p>\n",
       "<p>\n",
       "  If you're reading this message in another frontend (for example, a static\n",
       "  rendering on GitHub or <a href=\"https://nbviewer.jupyter.org/\">NBViewer</a>),\n",
       "  it may mean that your frontend doesn't currently support widgets.\n",
       "</p>\n"
      ],
      "text/plain": [
       "interactive(children=(FloatSlider(value=8.0, description='high_price', max=20.0, min=8.0, step=1.0), FloatSlider(value=3.0, description='low_price', max=8.0, step=0.5), FloatSlider(value=2.0, description='cost_to_learn', max=10.0, step=0.5), FloatSlider(value=20.0, description='good_art_value', max=50.0, min=10.0, step=1.0), FloatSlider(value=1.0, description='bad_art_value', max=10.0, step=1.0), Output()), _dom_classes=('widget-interact',))"
      ]
     },
     "metadata": {},
     "output_type": "display_data"
    },
    {
     "data": {
      "text/plain": [
       "<function __main__.main>"
      ]
     },
     "execution_count": 9,
     "metadata": {},
     "output_type": "execute_result"
    }
   ],
   "source": [
    "high_price = widgets.FloatSlider(min=8,max=20,step=1,value=8)             #low price\n",
    "low_price = widgets.FloatSlider(min=0,max=8,step=0.5,value=3)             #low price\n",
    "good_art_value=widgets.FloatSlider(min=10,max=50,step=1,value=20)               #value of good art\n",
    "bad_art_value=widgets.FloatSlider(min=0,max=10,step=1,value=1)               #value of bad art\n",
    "cost_to_learn = widgets.FloatSlider(min=0,max=10,step=0.5,value=2)            #cost of learning\n",
    "node0 = create_tree(0)\n",
    "def main(high_price, low_price, cost_to_learn, good_art_value, bad_art_value):\n",
    "    high_price_expectations = []\n",
    "    low_price_expectations = []\n",
    "    \n",
    "    learn_expectations = []\n",
    "    guess_and_buy_expectations = []\n",
    "    guess_and_not_buy_expectations = []\n",
    "    p_list = [0.01*p for p in range(101)]\n",
    "    for p in p_list:\n",
    "        set_probs(node0, p)\n",
    "        set_payoffs_for_leaf_nodes(node0, high_price, low_price, cost_to_learn, good_art_value, bad_art_value, p)\n",
    "\n",
    "        high_price_expectations.append(exp(node0.children[0])[1])\n",
    "        low_price_expectations.append(exp(node0.children[1])[1])\n",
    "        \n",
    "        low_price_is_set = int(exp(node0.children[0])[1] < exp(node0.children[1])[1])\n",
    "        learn_expectations.append(exp(node0.children[low_price_is_set].children[0])[2])\n",
    "        guess_and_buy_expectations.append(exp(node0.children[low_price_is_set].children[1].children[0])[2])\n",
    "        guess_and_not_buy_expectations.append(exp(node0.children[low_price_is_set].children[1].children[1])[2])\n",
    "\n",
    "        if p == 0.4:\n",
    "            e = exp(node0)\n",
    "            b = [node.name for node in solve(node0).path]\n",
    "            print(\"For p = 0.4:\")\n",
    "            print('expected payoffs: '+str(e))\n",
    "            print(\"behavior at equilibrium: \"+str(b))\n",
    "\n",
    "    plt.figure(1)\n",
    "    \n",
    "    plt.subplot(211)\n",
    "    plt.plot(p_list, high_price_expectations, label = \"high price\")\n",
    "    plt.plot(p_list, low_price_expectations, label = \"low price\")\n",
    "    plt.title(\"Player 1\")\n",
    "    #plt.xlabel(\"probability that art is good\")\n",
    "    plt.ylabel(\"expectation\")\n",
    "    plt.legend()\n",
    "\n",
    "    plt.subplot(212)\n",
    "    plt.plot(p_list, learn_expectations, label = \"learn\")\n",
    "    plt.plot(p_list, guess_and_buy_expectations, label = \"guess and buy\")\n",
    "    plt.plot(p_list, guess_and_not_buy_expectations, label = \"guess and not buy\")\n",
    "    plt.title(\"Player 2\")\n",
    "    plt.xlabel(\"probability that art is good\")\n",
    "    plt.ylabel(\"expectation\")\n",
    "    plt.legend()\n",
    "    \n",
    "    plt.subplots_adjust(left=None, bottom=0, right=1.5, top=1.2,\n",
    "                wspace=None, hspace=0.5)\n",
    "    \n",
    "    return plt    \n",
    "interact(main, high_price=high_price, \\\n",
    "         low_price=low_price, cost_to_learn=cost_to_learn, good_art_value=good_art_value, \\\n",
    "         bad_art_value=bad_art_value)\n",
    "\n"
   ]
  }
 ],
 "metadata": {
  "kernelspec": {
   "display_name": "Python 3",
   "language": "python",
   "name": "python3"
  },
  "language_info": {
   "codemirror_mode": {
    "name": "ipython",
    "version": 3
   },
   "file_extension": ".py",
   "mimetype": "text/x-python",
   "name": "python",
   "nbconvert_exporter": "python",
   "pygments_lexer": "ipython3",
   "version": "3.6.4"
  }
 },
 "nbformat": 4,
 "nbformat_minor": 2
}
